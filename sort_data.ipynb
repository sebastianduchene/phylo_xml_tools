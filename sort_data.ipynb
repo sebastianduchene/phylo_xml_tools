{
 "metadata": {
  "name": "",
  "signature": "sha256:7afe989bfca9ec6049818e69217706ce34cb2c07b1e1f3e8bdd345d3f8a161a5"
 },
 "nbformat": 3,
 "nbformat_minor": 0,
 "worksheets": [
  {
   "cells": [
    {
     "cell_type": "markdown",
     "metadata": {},
     "source": [
      "# Data filtering of Bird genomes for substitution model adequacy\n",
      "## April 19 2015\n",
      "\n",
      "## Edit August 6 2015"
     ]
    },
    {
     "cell_type": "code",
     "collapsed": false,
     "input": [
      "import pandas as pd\n",
      "import numpy as np\n",
      "import re, os, sys, copy, subprocess\n",
      "from Bio import SeqIO\n",
      "import matplotlib.pyplot as plt\n",
      "%pylab inline"
     ],
     "language": "python",
     "metadata": {},
     "outputs": [
      {
       "output_type": "stream",
       "stream": "stdout",
       "text": [
        "Populating the interactive namespace from numpy and matplotlib\n"
       ]
      },
      {
       "output_type": "stream",
       "stream": "stderr",
       "text": [
        "WARNING: pylab import has clobbered these variables: ['f', 'copy']\n",
        "`%matplotlib` prevents importing * from pylab and numpy\n"
       ]
      }
     ],
     "prompt_number": 27
    },
    {
     "cell_type": "markdown",
     "metadata": {},
     "source": [
      "- find all the fasta files"
     ]
    },
    {
     "cell_type": "code",
     "collapsed": false,
     "input": [
      "fasta_files = [i for i in os.listdir('.') if '.fasta' in i]\n",
      "len(fasta_files)"
     ],
     "language": "python",
     "metadata": {},
     "outputs": [
      {
       "metadata": {},
       "output_type": "pyout",
       "prompt_number": 39,
       "text": [
        "8295"
       ]
      }
     ],
     "prompt_number": 39
    },
    {
     "cell_type": "markdown",
     "metadata": {},
     "source": [
      "- Go through all the fasta files, find the taxon names and sequence lengths, and store them in taxa_names and s_lens, respectively."
     ]
    },
    {
     "cell_type": "code",
     "collapsed": false,
     "input": [
      "taxa_names = []\n",
      "s_lens = []\n",
      "for f in range(len(fasta_files)):\n",
      "    seq_temp = SeqIO.to_dict(SeqIO.parse(open(fasta_files[f], 'r'), 'fasta'))\n",
      "    s_lens.append(len(str(seq_temp[seq_temp.keys()[0]].seq)))\n",
      "    for t in seq_temp.keys():\n",
      "        taxa_names.append(t)\n",
      "    if f % 1000 == 0:\n",
      "        print 'I am in file %s' %fasta_files[f] "
     ],
     "language": "python",
     "metadata": {},
     "outputs": [
      {
       "output_type": "stream",
       "stream": "stdout",
       "text": [
        "I am in file 1000.fasta\n",
        "I am in file 11225.fasta"
       ]
      },
      {
       "output_type": "stream",
       "stream": "stdout",
       "text": [
        "\n",
        "I am in file 12552.fasta"
       ]
      },
      {
       "output_type": "stream",
       "stream": "stdout",
       "text": [
        "\n",
        "I am in file 13911.fasta"
       ]
      },
      {
       "output_type": "stream",
       "stream": "stdout",
       "text": [
        "\n",
        "I am in file 2407.fasta"
       ]
      },
      {
       "output_type": "stream",
       "stream": "stdout",
       "text": [
        "\n",
        "I am in file 418.fasta"
       ]
      },
      {
       "output_type": "stream",
       "stream": "stdout",
       "text": [
        "\n",
        "I am in file 6786.fasta"
       ]
      },
      {
       "output_type": "stream",
       "stream": "stdout",
       "text": [
        "\n",
        "I am in file 8373.fasta"
       ]
      },
      {
       "output_type": "stream",
       "stream": "stdout",
       "text": [
        "\n",
        "I am in file 9616.fasta"
       ]
      },
      {
       "output_type": "stream",
       "stream": "stdout",
       "text": [
        "\n"
       ]
      }
     ],
     "prompt_number": 40
    },
    {
     "cell_type": "markdown",
     "metadata": {},
     "source": [
      "- Find how many unique taxa there are and the mean sequence length of all alignments."
     ]
    },
    {
     "cell_type": "code",
     "collapsed": false,
     "input": [
      "taxa_unique = list(set(taxa_names))\n",
      "print len(taxa_unique)\n",
      "np.mean(s_lens)"
     ],
     "language": "python",
     "metadata": {},
     "outputs": [
      {
       "output_type": "stream",
       "stream": "stdout",
       "text": [
        "48\n"
       ]
      },
      {
       "metadata": {},
       "output_type": "pyout",
       "prompt_number": 41,
       "text": [
        "1634.3728752260397"
       ]
      }
     ],
     "prompt_number": 41
    },
    {
     "cell_type": "markdown",
     "metadata": {},
     "source": [
      "- Make a data frame where the rows are the taxon names and the columns are the gene names. Fill with 0 and 1 for absence \n",
      "or presence of a taxon"
     ]
    },
    {
     "cell_type": "code",
     "collapsed": false,
     "input": [
      "data_info = pd.DataFrame(np.empty(shape = (len(taxa_unique), len(fasta_files))))\n",
      "data_info.ix[:, :] = 0.0\n",
      "data_info.index = taxa_unique\n",
      "data_info.columns = fasta_files"
     ],
     "language": "python",
     "metadata": {},
     "outputs": [],
     "prompt_number": 42
    },
    {
     "cell_type": "code",
     "collapsed": false,
     "input": [
      "for f in fasta_files:\n",
      "    seq_temp = SeqIO.to_dict(SeqIO.parse(open(f, 'r'), 'fasta'))\n",
      "    tax_temp = seq_temp.keys()\n",
      "    data_info.ix[tax_temp, f] = 1"
     ],
     "language": "python",
     "metadata": {},
     "outputs": [],
     "prompt_number": 43
    },
    {
     "cell_type": "code",
     "collapsed": false,
     "input": [
      "data_info.head()"
     ],
     "language": "python",
     "metadata": {},
     "outputs": [
      {
       "html": [
        "<div style=\"max-height:1000px;max-width:1500px;overflow:auto;\">\n",
        "<table border=\"1\" class=\"dataframe\">\n",
        "  <thead>\n",
        "    <tr style=\"text-align: right;\">\n",
        "      <th></th>\n",
        "      <th>1000.fasta</th>\n",
        "      <th>10000.fasta</th>\n",
        "      <th>10001.fasta</th>\n",
        "      <th>10002.fasta</th>\n",
        "      <th>10003.fasta</th>\n",
        "      <th>10004.fasta</th>\n",
        "      <th>10005.fasta</th>\n",
        "      <th>10006.fasta</th>\n",
        "      <th>10007.fasta</th>\n",
        "      <th>10008.fasta</th>\n",
        "      <th>...</th>\n",
        "      <th>9985.fasta</th>\n",
        "      <th>9986.fasta</th>\n",
        "      <th>9988.fasta</th>\n",
        "      <th>9991.fasta</th>\n",
        "      <th>9992.fasta</th>\n",
        "      <th>9994.fasta</th>\n",
        "      <th>9995.fasta</th>\n",
        "      <th>9996.fasta</th>\n",
        "      <th>9998.fasta</th>\n",
        "      <th>9999.fasta</th>\n",
        "    </tr>\n",
        "  </thead>\n",
        "  <tbody>\n",
        "    <tr>\n",
        "      <th>CARCR</th>\n",
        "      <td>1</td>\n",
        "      <td>1</td>\n",
        "      <td>1</td>\n",
        "      <td>1</td>\n",
        "      <td>1</td>\n",
        "      <td>1</td>\n",
        "      <td>0</td>\n",
        "      <td>1</td>\n",
        "      <td>1</td>\n",
        "      <td>1</td>\n",
        "      <td>...</td>\n",
        "      <td>1</td>\n",
        "      <td>1</td>\n",
        "      <td>1</td>\n",
        "      <td>1</td>\n",
        "      <td>1</td>\n",
        "      <td>1</td>\n",
        "      <td>1</td>\n",
        "      <td>1</td>\n",
        "      <td>1</td>\n",
        "      <td>1</td>\n",
        "    </tr>\n",
        "    <tr>\n",
        "      <th>GALGA</th>\n",
        "      <td>1</td>\n",
        "      <td>1</td>\n",
        "      <td>1</td>\n",
        "      <td>1</td>\n",
        "      <td>1</td>\n",
        "      <td>1</td>\n",
        "      <td>1</td>\n",
        "      <td>1</td>\n",
        "      <td>1</td>\n",
        "      <td>1</td>\n",
        "      <td>...</td>\n",
        "      <td>1</td>\n",
        "      <td>1</td>\n",
        "      <td>1</td>\n",
        "      <td>1</td>\n",
        "      <td>1</td>\n",
        "      <td>1</td>\n",
        "      <td>1</td>\n",
        "      <td>1</td>\n",
        "      <td>1</td>\n",
        "      <td>1</td>\n",
        "    </tr>\n",
        "    <tr>\n",
        "      <th>CHAPE</th>\n",
        "      <td>1</td>\n",
        "      <td>1</td>\n",
        "      <td>1</td>\n",
        "      <td>1</td>\n",
        "      <td>1</td>\n",
        "      <td>1</td>\n",
        "      <td>1</td>\n",
        "      <td>1</td>\n",
        "      <td>1</td>\n",
        "      <td>1</td>\n",
        "      <td>...</td>\n",
        "      <td>1</td>\n",
        "      <td>1</td>\n",
        "      <td>1</td>\n",
        "      <td>1</td>\n",
        "      <td>1</td>\n",
        "      <td>1</td>\n",
        "      <td>1</td>\n",
        "      <td>1</td>\n",
        "      <td>1</td>\n",
        "      <td>1</td>\n",
        "    </tr>\n",
        "    <tr>\n",
        "      <th>MELGA</th>\n",
        "      <td>1</td>\n",
        "      <td>1</td>\n",
        "      <td>1</td>\n",
        "      <td>1</td>\n",
        "      <td>1</td>\n",
        "      <td>1</td>\n",
        "      <td>1</td>\n",
        "      <td>1</td>\n",
        "      <td>1</td>\n",
        "      <td>1</td>\n",
        "      <td>...</td>\n",
        "      <td>1</td>\n",
        "      <td>1</td>\n",
        "      <td>1</td>\n",
        "      <td>1</td>\n",
        "      <td>1</td>\n",
        "      <td>1</td>\n",
        "      <td>1</td>\n",
        "      <td>1</td>\n",
        "      <td>1</td>\n",
        "      <td>1</td>\n",
        "    </tr>\n",
        "    <tr>\n",
        "      <th>COLST</th>\n",
        "      <td>1</td>\n",
        "      <td>1</td>\n",
        "      <td>1</td>\n",
        "      <td>1</td>\n",
        "      <td>1</td>\n",
        "      <td>1</td>\n",
        "      <td>1</td>\n",
        "      <td>1</td>\n",
        "      <td>0</td>\n",
        "      <td>1</td>\n",
        "      <td>...</td>\n",
        "      <td>1</td>\n",
        "      <td>1</td>\n",
        "      <td>0</td>\n",
        "      <td>0</td>\n",
        "      <td>1</td>\n",
        "      <td>1</td>\n",
        "      <td>0</td>\n",
        "      <td>1</td>\n",
        "      <td>1</td>\n",
        "      <td>1</td>\n",
        "    </tr>\n",
        "  </tbody>\n",
        "</table>\n",
        "<p>5 rows \u00d7 8295 columns</p>\n",
        "</div>"
       ],
       "metadata": {},
       "output_type": "pyout",
       "prompt_number": 44,
       "text": [
        "       1000.fasta  10000.fasta  10001.fasta  10002.fasta  10003.fasta  \\\n",
        "CARCR           1            1            1            1            1   \n",
        "GALGA           1            1            1            1            1   \n",
        "CHAPE           1            1            1            1            1   \n",
        "MELGA           1            1            1            1            1   \n",
        "COLST           1            1            1            1            1   \n",
        "\n",
        "       10004.fasta  10005.fasta  10006.fasta  10007.fasta  10008.fasta  \\\n",
        "CARCR            1            0            1            1            1   \n",
        "GALGA            1            1            1            1            1   \n",
        "CHAPE            1            1            1            1            1   \n",
        "MELGA            1            1            1            1            1   \n",
        "COLST            1            1            1            0            1   \n",
        "\n",
        "          ...      9985.fasta  9986.fasta  9988.fasta  9991.fasta  9992.fasta  \\\n",
        "CARCR     ...               1           1           1           1           1   \n",
        "GALGA     ...               1           1           1           1           1   \n",
        "CHAPE     ...               1           1           1           1           1   \n",
        "MELGA     ...               1           1           1           1           1   \n",
        "COLST     ...               1           1           0           0           1   \n",
        "\n",
        "       9994.fasta  9995.fasta  9996.fasta  9998.fasta  9999.fasta  \n",
        "CARCR           1           1           1           1           1  \n",
        "GALGA           1           1           1           1           1  \n",
        "CHAPE           1           1           1           1           1  \n",
        "MELGA           1           1           1           1           1  \n",
        "COLST           1           0           1           1           1  \n",
        "\n",
        "[5 rows x 8295 columns]"
       ]
      }
     ],
     "prompt_number": 44
    },
    {
     "cell_type": "markdown",
     "metadata": {},
     "source": [
      "- For each taxon, count the number of genes for which it is present. Then sort the taxa by the most to least frequent.\n",
      "The output is a data frame with the names of the taxa and the number of genes that they appear in."
     ]
    },
    {
     "cell_type": "code",
     "collapsed": false,
     "input": [
      "taxa_sums = np.array([1 / sum(data_info.ix[i, :]) for i in list(data_info.index)])\n",
      "taxa_sorted = taxa_sums.argsort()\n",
      "taxa_freq = pd.DataFrame(np.vstack([data_info.index[taxa_sorted], 1 / taxa_sums[taxa_sorted]]).transpose())\n",
      "taxa_freq.head().transpose()"
     ],
     "language": "python",
     "metadata": {},
     "outputs": [
      {
       "html": [
        "<div style=\"max-height:1000px;max-width:1500px;overflow:auto;\">\n",
        "<table border=\"1\" class=\"dataframe\">\n",
        "  <thead>\n",
        "    <tr style=\"text-align: right;\">\n",
        "      <th></th>\n",
        "      <th>0</th>\n",
        "      <th>1</th>\n",
        "      <th>2</th>\n",
        "      <th>3</th>\n",
        "      <th>4</th>\n",
        "    </tr>\n",
        "  </thead>\n",
        "  <tbody>\n",
        "    <tr>\n",
        "      <th>0</th>\n",
        "      <td>GALGA</td>\n",
        "      <td>APTFO</td>\n",
        "      <td>CHAVO</td>\n",
        "      <td>PYGAD</td>\n",
        "      <td>FALPE</td>\n",
        "    </tr>\n",
        "    <tr>\n",
        "      <th>1</th>\n",
        "      <td>8295</td>\n",
        "      <td>8260</td>\n",
        "      <td>8250</td>\n",
        "      <td>8245</td>\n",
        "      <td>8245</td>\n",
        "    </tr>\n",
        "  </tbody>\n",
        "</table>\n",
        "</div>"
       ],
       "metadata": {},
       "output_type": "pyout",
       "prompt_number": 46,
       "text": [
        "       0      1      2      3      4\n",
        "0  GALGA  APTFO  CHAVO  PYGAD  FALPE\n",
        "1   8295   8260   8250   8245   8245"
       ]
      }
     ],
     "prompt_number": 46
    },
    {
     "cell_type": "markdown",
     "metadata": {},
     "source": [
      "- Make table with the following sets of genes. To do this we define several functions:\n",
      "\n",
      "    - **check_taxa** returns true if a list of taxa is in an alignment.\n",
      "    \n",
      "    - **find_genes_with_taxa** fins a list of genes that contain a list of taxa.\n",
      "    \n",
      "    - **seq_dict_to_fasta** writes a sequence dictionary to a fasta file.\n"
     ]
    },
    {
     "cell_type": "code",
     "collapsed": false,
     "input": [
      "def check_taxa(taxa, lines):\n",
      "    taxa_present = []\n",
      "    for t in taxa:\n",
      "        if t in lines:\n",
      "            taxa_present.append(True)\n",
      "        else:\n",
      "            taxa_present.append(False)\n",
      "    return all(taxa_present)\n",
      "\n",
      "def find_genes_with_taxa(taxa_list, fasta_files):\n",
      "    keep_genes = []\n",
      "    for f in fasta_files:\n",
      "        lines_temp = open(f, 'r').read()\n",
      "        if check_taxa(taxa_list, lines_temp):\n",
      "            keep_genes.append(f)\n",
      "    return keep_genes\n",
      "\n",
      "def seq_dict_to_fasta(dict_records, out_file):\n",
      "    f = open(out_file, 'w')\n",
      "    for i in dict_records:\n",
      "        f.write('>'+i+'\\n')\n",
      "        f.write(str(dict_records[i].seq)+'\\n')\n",
      "    f.close() "
     ],
     "language": "python",
     "metadata": {},
     "outputs": [],
     "prompt_number": 47
    },
    {
     "cell_type": "markdown",
     "metadata": {},
     "source": [
      "- Use the functions above to find genes with 40 taxa. This is done by selecting the 40 most frequent taxa and then finding the genes that contain all of them."
     ]
    },
    {
     "cell_type": "code",
     "collapsed": false,
     "input": [
      "forty_taxa = list(taxa_freq.ix[:39, 0])\n",
      "keep_genes = find_genes_with_taxa(forty_taxa, fasta_files)\n",
      "\n",
      "print 'there are %s genes with the 40 most frequent taxa' %(len(keep_genes))\n",
      "print 'this represents %s of the genes'  %(round(len(keep_genes) / float(len(fasta_files)) * 100, 2))"
     ],
     "language": "python",
     "metadata": {},
     "outputs": [
      {
       "output_type": "stream",
       "stream": "stdout",
       "text": [
        "there are 3126 genes with the 40 most frequent taxa\n",
        "this represents 37.69 of the genes\n"
       ]
      }
     ],
     "prompt_number": 54
    },
    {
     "cell_type": "markdown",
     "metadata": {},
     "source": [
      "For each of the genes that contain the 40 taxa, read the alignment, keep only the 40 most frequent taxa and save in a folder called taxa_40/"
     ]
    },
    {
     "cell_type": "code",
     "collapsed": false,
     "input": [
      "for g in keep_genes:\n",
      "    seq_temp = SeqIO.to_dict(SeqIO.parse(open(g, 'r'), 'fasta'))\n",
      "    seq_clean = {i:seq_temp[i] for i in forty_taxa}\n",
      "    seq_dict_to_fasta(seq_clean, 'taxa_40/'+g)"
     ],
     "language": "python",
     "metadata": {},
     "outputs": [],
     "prompt_number": 56
    },
    {
     "cell_type": "markdown",
     "metadata": {},
     "source": [
      "- Do the same for 30 taxa"
     ]
    },
    {
     "cell_type": "code",
     "collapsed": false,
     "input": [
      "thirty_taxa = list(taxa_freq.ix[:29, 0])\n",
      "keep_genes = find_genes_with_taxa(thirty_taxa, fasta_files)\n",
      "\n",
      "print 'there are %s genes with the 30 most frequent taxa' %(len(keep_genes))\n",
      "print 'this represents %s of the genes'  %(round(len(keep_genes) / float(len(fasta_files)) * 100, 2))"
     ],
     "language": "python",
     "metadata": {},
     "outputs": [
      {
       "output_type": "stream",
       "stream": "stdout",
       "text": [
        "there are 4446 genes with the 30 most frequent taxa\n",
        "this represents 53.6 of the genes\n"
       ]
      }
     ],
     "prompt_number": 57
    },
    {
     "cell_type": "code",
     "collapsed": false,
     "input": [
      "for g in keep_genes:\n",
      "    seq_temp = SeqIO.to_dict(SeqIO.parse(open(g, 'r'), 'fasta'))\n",
      "    seq_clean = {i:seq_temp[i] for i in thirty_taxa}\n",
      "    seq_dict_to_fasta(seq_clean, 'taxa_30/'+g)"
     ],
     "language": "python",
     "metadata": {},
     "outputs": [],
     "prompt_number": 58
    },
    {
     "cell_type": "markdown",
     "metadata": {},
     "source": [
      "- 10 taxa"
     ]
    },
    {
     "cell_type": "code",
     "collapsed": false,
     "input": [
      "ten_taxa = list(taxa_freq.ix[:9, 0])\n",
      "keep_genes = find_genes_with_taxa(ten_taxa, fasta_files)\n",
      "\n",
      "print 'there are %s genes with the 10 most frequent taxa' %(len(keep_genes))\n",
      "print 'this represents %s of the genes'  %(round(len(keep_genes) / float(len(fasta_files)) * 100, 2))"
     ],
     "language": "python",
     "metadata": {},
     "outputs": [
      {
       "output_type": "stream",
       "stream": "stdout",
       "text": [
        "there are 7751 genes with the 10 most frequent taxa\n",
        "this represents 93.44 of the genes\n"
       ]
      }
     ],
     "prompt_number": 60
    },
    {
     "cell_type": "code",
     "collapsed": false,
     "input": [
      "for g in keep_genes:\n",
      "    seq_temp = SeqIO.to_dict(SeqIO.parse(open(g, 'r'), 'fasta'))\n",
      "    seq_clean = {i:seq_temp[i] for i in ten_taxa}\n",
      "    seq_dict_to_fasta(seq_clean, 'taxa_10/'+g)"
     ],
     "language": "python",
     "metadata": {},
     "outputs": [],
     "prompt_number": 61
    },
    {
     "cell_type": "code",
     "collapsed": false,
     "input": [
      "# Which are the ten most frequent taxa?\n",
      "ten_taxa"
     ],
     "language": "python",
     "metadata": {},
     "outputs": [
      {
       "metadata": {},
       "output_type": "pyout",
       "prompt_number": 63,
       "text": [
        "['GALGA',\n",
        " 'APTFO',\n",
        " 'CHAVO',\n",
        " 'PYGAD',\n",
        " 'FALPE',\n",
        " 'NIPNI',\n",
        " 'CORBR',\n",
        " 'COLLI',\n",
        " 'CHAPE',\n",
        " 'GEOFO']"
       ]
      }
     ],
     "prompt_number": 63
    },
    {
     "cell_type": "code",
     "collapsed": false,
     "input": [],
     "language": "python",
     "metadata": {},
     "outputs": []
    }
   ],
   "metadata": {}
  }
 ]
}